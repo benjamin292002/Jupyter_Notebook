{
 "cells": [
  {
   "cell_type": "markdown",
   "metadata": {},
   "source": [
    "\n",
    "<h1><center> Projet de Terminale Scientifique : Sciences de l'ingénieurs</center></h1>"
   ]
  },
  {
   "cell_type": "markdown",
   "metadata": {},
   "source": [
    "Bonjour et bienvenue à tous sur ce récapitulatif du projet Drone. En cette année 2018 une tâche m'a été confié : celle de trouver, étudier et conceptualiser un projet des Sciences de l'ingénieur. Le choix du thème de mon projet n'a pas été simple puisque énormément de thèmes et d'idées m'ont effleuré l'esprit. M'intéressant de près au domaine de l'aéronautique un système intéressant à étudier aurait été un multicoptère. Mon choix était onc fait, le projet pouvait démarrer. Accompagner de mes quatres camarades, nous avons répartis les tâches à faire pour connaitre au mieux le fonctionnement du système, la mienne était sans surprise l'étude de la nacelle gyrostabilisée."
   ]
  },
  {
   "cell_type": "markdown",
   "metadata": {},
   "source": [
    "## Nacelle gyrostabilisée "
   ]
  },
  {
   "cell_type": "markdown",
   "metadata": {},
   "source": [
    "Tout d'abord, pour bien comprendre le fonctionnement complet de la nacelle il nous faut distinguer ses fonctions. La première, c'est le fait de contrer l'angle dit de **roulis**(rotation autour de l'axe $\\vec x$) et la seconde, c'est de contrer l'angle dit de **tangage** (rotation autour de l'axe $\\vec z$). Et voila ! La nacelle doit simplement éviter de tourner autour de ces angles et rester au mieux stable.\n",
    "\n",
    "Ainsi, dans un premier temps, pour nous permettre de commencer à étudier de facon simplifier les mouvements d'une nacelle nous allons, utiliser un modèle ayant un seul axe de rotation : l'axe de roulis. "
   ]
  },
  {
   "cell_type": "markdown",
   "metadata": {},
   "source": [
    "<img src=\"image/schéma cinématique à l'équilibre.png\" width=1000>"
   ]
  },
  {
   "cell_type": "markdown",
   "metadata": {},
   "source": [
    "<center>Schéma cinématique de la nacelle en équilibre</center>"
   ]
  },
  {
   "cell_type": "markdown",
   "metadata": {},
   "source": [
    "<img src=\"image/Schéma cinématique en perturbation.png\" width=1000>"
   ]
  },
  {
   "cell_type": "markdown",
   "metadata": {},
   "source": [
    "<center>Schéma cinématique de la nacelle en déséquilibre</center>"
   ]
  },
  {
   "cell_type": "markdown",
   "metadata": {},
   "source": [
    "Par conséquent pour avoir un système stable alors : $$\\sum \\vec F_{ext\\rightarrow N}= \\vec 0$$"
   ]
  },
  {
   "cell_type": "markdown",
   "metadata": {},
   "source": [
    "En développant un peu cette équation nous avons sur $\\vec y$ : $$R_{x}=0$$\n",
    "et sur $\\vec x$ : $$R_{y}=g\\times (m_{1}+m_{2})$$"
   ]
  },
  {
   "cell_type": "markdown",
   "metadata": {},
   "source": [
    "Par aileurs, pour la résultante du système nous avons : \n",
    "\n",
    "\n",
    "\n",
    "$$\\sum\\vec M_{A}(\\vec F_{ext\\rightarrow N}) = \\vec 0$$ \n",
    "\n",
    "$$\\iff C_{m}+ \\vec M_{A}(\\vec P_{1})+\\vec M_{A}(\\vec P_{2})+\\vec M_{A}(\\vec R_{N})=\\vec 0$$\n"
   ]
  },
  {
   "cell_type": "markdown",
   "metadata": {},
   "source": [
    "**1/** Prenons maintenant le cas où $C_{m}=\\vec 0$ et donc le pivot serait  **\"libre\"** :\n",
    "\n",
    "\n",
    "$$\\iff \\sum \\| \\vec M_{A}(\\vec F_{ext\\rightarrow N})\\| = 0  $$\n",
    "$$\\iff -a\\times \\|\\vec P_{1}\\| - b\\times \\|\\vec P_{2}\\| = 0$$\n",
    "or $\\|\\vec P_{1}\\|$ et $\\|\\vec P_{2}\\|\\ne 0$ donc **a et b = 0**\n",
    "\n",
    "\n",
    "**2/** Maintenant si $C_{m} \\ne 0$ alors a et b $\\ne 0$"
   ]
  },
  {
   "cell_type": "markdown",
   "metadata": {},
   "source": [
    "<h3>En accélération : </h3>\n",
    "\n",
    "Un des principaux problèmes de stabilisation de la nacelle advient lors de l'accélération du drone. En effet, une force d'inertie vient perturber la trajectoire \"normale\" de la nacelle qui sera alors penchée. Voila pourquoi nous devons prendre en compte l'accélération du système. En conséquence nous avons :\n",
    "\n",
    "$$\\sum \\vec F_{ext\\rightarrow N}= m \\cdot \\vec a$$\n",
    "\n",
    "$$\\iff R_{x} = F_{i}$$\n",
    "\n",
    "\n",
    "De plus :\n",
    "\n",
    "$$\\iff \\vec M_{A}(\\vec F_{i})= \\vec M_{A}(\\vec P_{1}) +\\vec M_{A}(\\vec P_{2})$$\n",
    "\n",
    "$$\\iff \\beta m_{n}\\vec a - g(a m_{1} + b m_{2})=0$$"
   ]
  },
  {
   "cell_type": "markdown",
   "metadata": {},
   "source": [
    "\n",
    "Lors de l'initialisation du système, il se trouve en position statique telle que : $\\theta = 0°$ et $\\psi = 0°$. Notre but est de maintenir la nacelle en tous temps horizontal avec $\\psi = 0$. Par conséquent l'angle $\\theta$ évoluera en fonction de $\\psi$ de la manière suivante (prenons bien en compte que $\\psi\\in [\\,10°;-10°]\\, $ au maximum) :\n"
   ]
  },
  {
   "cell_type": "code",
   "execution_count": 3,
   "metadata": {
    "scrolled": true
   },
   "outputs": [
    {
     "name": "stdout",
     "output_type": "stream",
     "text": [
      "Saisissez l'angle psi :3\n",
      "psi : 0 tetha : -3.0\n"
     ]
    }
   ],
   "source": [
    "psi = float(input(\"Saisissez l'angle psi :\"))\n",
    "theta=float()\n",
    "if psi != 0:\n",
    "    theta = theta - psi\n",
    "    psi=0\n",
    "    \n",
    "print(\"psi : \"+ str(psi)+\" tetha : \"+str(theta))    "
   ]
  },
  {
   "cell_type": "markdown",
   "metadata": {},
   "source": [
    "Ainsi grace à ce programme simple nous connaissons l'angle à donner au bras soutenant la nacelle pour que l'ensemble {N} soit horizontal. Pus simplement voici comment cela fonctionne :\n",
    "\n",
    "\n"
   ]
  },
  {
   "cell_type": "markdown",
   "metadata": {},
   "source": [
    "<img src=\"image/diagramme nacelle.png\"> "
   ]
  },
  {
   "cell_type": "markdown",
   "metadata": {},
   "source": [
    "En fin de compte la boucle ci-dessus a pour but d'avoir un angle $\\psi$ qui sera au mieux toujours nul et ainsi $\\theta$ qui évoluera en conséquence (le bras de la nacelle pivotera)"
   ]
  },
  {
   "cell_type": "markdown",
   "metadata": {},
   "source": [
    "## Qu'en est t-il si nous souhaitons contrôler les mouvements par des moteurs ?"
   ]
  },
  {
   "cell_type": "markdown",
   "metadata": {},
   "source": [
    "### Prenons d'abord un mouvement non accéléré :"
   ]
  },
  {
   "cell_type": "markdown",
   "metadata": {},
   "source": [
    "Reprenons ainsi les anciennes équations en apportant le vecteur $\\vec F_{iv}$ (force d'inertie du vent, ici une rafale)"
   ]
  },
  {
   "cell_type": "markdown",
   "metadata": {},
   "source": [
    "$$\\sum\\vec M_{A}(\\vec F_{ext\\rightarrow N}) = \\vec 0$$ \n",
    "\n",
    "$$\\iff C_{m}+ \\vec M_{A}(\\vec P_{1})+\\vec M_{A}(\\vec P_{2})+\\vec M_{A}(\\vec F_{iv})=\\vec 0$$"
   ]
  },
  {
   "cell_type": "markdown",
   "metadata": {},
   "source": []
  },
  {
   "cell_type": "code",
   "execution_count": null,
   "metadata": {},
   "outputs": [],
   "source": []
  }
 ],
 "metadata": {
  "kernelspec": {
   "display_name": "Python 3",
   "language": "python",
   "name": "python3"
  },
  "language_info": {
   "codemirror_mode": {
    "name": "ipython",
    "version": 3
   },
   "file_extension": ".py",
   "mimetype": "text/x-python",
   "name": "python",
   "nbconvert_exporter": "python",
   "pygments_lexer": "ipython3",
   "version": "3.6.5"
  }
 },
 "nbformat": 4,
 "nbformat_minor": 2
}
