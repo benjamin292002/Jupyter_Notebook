{ "cells": [ 
{  "cell_type": "markdown",
   "metadata": {},
   "source": [
    "<h1>Le chiffrement César</h1>\n",
    "\n",
    "   Une autre technique de chiffrage facile à comprendre est celle de César. Laissez moi vous contez son histoire, Mesdames et Messieurs la voici. Dans la Rome Antique, le célèbre empereur Jules César avait imaginé une méthode simple et efficace pour envoyer des messages à ses généraux sans que personne ne puisse  les lires s'ils se faisait intercepter. \n",
    "\n",
    "L'idée est simple : comme fait précédemment nous associons un nombre pour chaque lettre de l'alphabet en fonction de son ordre   <i><u>exemple</u> : a = 0 ; b = 1; z = 25 etc...</i>. Ensuite, pour chiffrer le message il nous suffit d'ajouter pour chaque terme un nombre qui appelé clé (<i> <u>exemple</u></i> : message = abc alors message = 012 si clé = 3 alors message_chiffré = 345 ce qui donne en lettre  message_chiffré = def ). \n",
    "\n",
    "\n",
    "\n",
    "<img src=Caesar.png width=500>\n",
    "\n",
    "\n",
    "Pour déchiffrer le message il suffisait simplement de redéplacer chaque lettre de 3 rangs vers la gauche et le tour était jouer ! A l'époque cette méthode était efficace puisque seul César et ses généraux savaient qu'il fallait déplacer de trois rangs les lettres. Ce nombre est appelé une clé de chiffrement (ici notre clé est donc 3) et elle doit à tous prix rester secrète ! Malheuresement aujourd'hui cette technique est obsolète puisqu'avec les ordinateurs modernes une énorme quantité de clé peut être essayer rapidement .\n",
    "\n",
    "<br><br>"
   ]
  },
  {
   "cell_type": "markdown",
   "metadata": {},
   "source": [
    "###  Un programme de chiffrement, mais comment ca marche ?\n",
    "\n",
    "<br>Le programme que nous allons créer va à la fois chiffrer et déchiffrer. En effet, il n'y a aucune utilité à chiffrer un message si celui-ci ne peut pas être lu ... Ce premier petit programme va nous faire savoir si l'utilisateur veut chiffrer ou déchiffrer un message."
   ]
  },
  {
   "cell_type": "code",
   "execution_count": null,
   "metadata": {},
   "outputs": [],
   "source": [
    "def Mode(): #Cette fonction définit le type d'action à effectuer sur le message (chiffrer ou déchiffrer)\n",
    "\n",
    "     while True:\n",
    "            \n",
    "        print('Souhaitez-vous chiffrer ou déchiffrer un message ?')\n",
    "        mode = input().lower()\n",
    "        \n",
    "        if mode in 'chiffrer c déchiffrer d'.split():       #'chiffrer c déchiffrer d'.split() équivaut \n",
    "                                                          # à ['chiffrer','c','déchiffrer',d]\n",
    "            return mode      # retournons la variable mode à la fonction Mode()\n",
    "        else:\n",
    "            print('Entrez plutôt \"chiffrer\" ou \"c\" ou \"déchiffrer\" ou \"d\".')\n",
    "            \n",
    "mode = Mode()"
   ]
  },
  {
   "cell_type": "markdown",
   "metadata": {},
   "source": [
    "Tout d'abord, l'utilisateur doit taper crypter/c ou décrypter/d, en majuscule ou minuscule ici peu importe puisque nous utilisons la focntion \"lower()\" qui force la lettre à se mettre en minuscule. Si notre saisie inscrite dans la variable mode est bien chiffrer/c/déchiffrer ou d alors nous retournons la variable mode, sinon la saisie n'est pas correct alors 'Entrez plutôt \"chiffrer\" ou \"c\" ou \"déchiffrer\" ou \"d\".' apparait.\n",
    "Cette fonction a servie à savoir si l'utilisateur a correctement rentrer sa commande."
   ]
  },
  {
   "cell_type": "code",
   "execution_count": null,
   "metadata": {},
   "outputs": [],
   "source": [
    "def Message():     #Saisissons le message de notre client\n",
    "\n",
    "    print('Entrez votre message:')\n",
    "    return input()\n",
    "\n",
    "message = Message()"
   ]
  },
  {
   "cell_type": "markdown",
   "metadata": {},
   "source": [
    "Cette fonction Message() saisit simplement le message à chiffrer ou à déchiffrer et le stock dans la variable message. Ensuite  :"
   ]
  },
  {
   "cell_type": "code",
   "execution_count": null,
   "metadata": {},
   "outputs": [],
   "source": [
    "def cle():        #Et saisissons sa clé de cryptage\n",
    "    key = 0\n",
    "\n",
    "    while True:\n",
    "        print('Entrez la clé (entre 1 et 26)')\n",
    "        key = int(input())\n",
    "\n",
    "        if (key >= 1 and key <= 26):\n",
    "            return key\n",
    "\n",
    "key = cle()"
   ]
  },
  {
   "cell_type": "markdown",
   "metadata": {},
   "source": [
    "Dans cette cellule l'utilisateur va rentrer sa clé de chiffrement. Cette clé est stockée dans la variable key et si elle est bien comprise entre 1 et 26 alors elle est affectée à la variabl key, en dehors de cette fonction."
   ]
  },
  {
   "cell_type": "code",
   "execution_count": 1,
   "metadata": {},
   "outputs": [
    {
     "ename": "SyntaxError",
     "evalue": "unexpected EOF while parsing (<ipython-input-1-263e1f68f7b6>, line 35)",
     "output_type": "error",
     "traceback": [
      "\u001b[0;36m  File \u001b[0;32m\"<ipython-input-1-263e1f68f7b6>\"\u001b[0;36m, line \u001b[0;32m35\u001b[0m\n\u001b[0;31m    print(MsgTraduis(mode, message, key)/\u001b[0m\n\u001b[0m                                         ^\u001b[0m\n\u001b[0;31mSyntaxError\u001b[0m\u001b[0;31m:\u001b[0m unexpected EOF while parsing\n"
     ]
    }
   ],
   "source": [
    "def MsgTraduis(mode, message, key):\n",
    "    MsgChiffre=\"\"\n",
    "    \n",
    "    if mode[0] == 'd':    # 1./\n",
    "        key = -key\n",
    "\n",
    "    for symbol in message:     #  2./\n",
    "        \n",
    "        if symbol.isalpha():    #   3./\n",
    "            num = ord(symbol)\n",
    "            num += key\n",
    "            \n",
    "            if symbol.isupper():     #   4./ *\n",
    "                if num > ord('Z'): \n",
    "                    \n",
    "                        num -= 26\n",
    "                elif num < ord('A'):                 \n",
    "                        num += 26\n",
    "                        \n",
    "            elif symbol.islower():       #  **    \n",
    "                \n",
    "                if num > ord('z'):\n",
    "                    num -= 26\n",
    "                    \n",
    "                elif num < ord('a'):\n",
    "                    num += 26\n",
    "                    \n",
    "            MsgChiffre += chr(num)    # 5./\n",
    "        else:\n",
    "            MsgChiffre += symbol    #  6./\n",
    "            \n",
    "    return MsgChiffre\n",
    "\n",
    "print('Texte chiffré :')\n",
    "print(MsgTraduis(mode, message, key)/"
   ]
  },
  {
   "cell_type": "markdown",
   "metadata": {},
   "source": [
    "Voici donc la plus longue fonction : MsgTraduis(mode, message, key) qui va chiffrer ou déchiffrer le message. \n",
    "\n",
    "<ol><b>1./</b>  Tout d'abord il nous faut savoir si le message est à déchiffrer ou à chiffrer. Si la première lettre de la variable mode est le \"d\" alors nous devons déchiffrer et à l'inverse si mode[0] = c alors nous devons chiffrer. Si le message est à déchiffrer alors nous ne devons pas ajouter la clé à chaque nombre mais la soustraire (cf tableau de César).</ol> \n",
    "\n",
    "<ul><b>2./</b>  Dans cette boucle \"symbol\" est un mot spécifique puisqu'il est connu de python. Autrement dit \"for symbol in message\" cela veut dire en français : pour chaque caractère (ou lettre dans notre cas) dans la variable message alors faire : quelque chose. Cette boucle va nous permettre de chiffrer lettre par lettre le message</ul>\n",
    "\n",
    "<ul><b>3./</b>  Si le symbole est bien une lettre (d'où le .isalpha) alors la foncion ord() transforme le charactère en son nombre décimal ( d'après la table ASCII). Dans l'exemple que nous avions donné précédemment ord(a) = 97 et non 0. De plus ord(z) = 122 et ord(A)=65. L'alphabet ASCII ne fait pas suivre les majuscules et minuscules, c'est toujours bon de le savoir ! Ensuite, il nous suffit d'ajouter le nombre associé à notre clé de chiffrement au nombre associé au symbol de notre mot et tous ça est stockée dans la variable num. (L'explication est barbare alors appuyez vous sur le code pour bien suivre !!)</ul> \n",
    "\n",
    "<ul><b>4./</b>Quatrièmement les 2 conditions suivantes veulent toutes deux dire sensiblement la même chose. Si par exemple mon ma letre est \"z\" et ma clé est \"2\" alors le symbole associé en ASCII serrait le \"!\". Or nous ne voulons seulement que des lettres donc nous retournons au début de l'alphabet d'où le num -= 26. Même problème si notre clé est 2, nous souhaitons déchiffrer et notre lettre est a ... alors \"num += 26\". La première condition <b>*</b> transforme les lettres majuscule tandis que <b>**</b> chiffre/déchiffre les lettres minuscules</ul>\n",
    "\n",
    "<ul><b>5./</b> La fonction chr() est la fonction inverse de la fonction ord() puisque chr(ord('a')) = 'a'. Les symboles chiffrés sont tous ajoutés à la suite dans la variable \"MsgCrypte\". </ul>\n",
    "\n",
    "<ul><b>6./</b> Si le symbole n'est pas une lettre alors il n'est pas chiffré et reste comme il est</ul>\n",
    "\n",
    "<ul><b>Enfin ...</b> la procédure finale est classique. Voila donc comment créer un programme de chiffrement ou de déchiffrement !!!<ul>\n",
    "    \n",
    "     merci à https://inventwithpython.com/chapter14.html pour son aide !"
   ]
  },
  {
   "cell_type": "markdown",
   "metadata": {},
   "source": [
    "Voila à quoi ressemble le programme final mit bout à bout :"
   ]
  },
  {
   "cell_type": "code",
   "execution_count": 1,
   "metadata": {},
   "outputs": [
    {
     "name": "stdout",
     "output_type": "stream",
     "text": [
      "Souhaitez-vous chiffrer ou déchiffrer un message ?\n",
      "d\n",
      "Entrez votre message:\n",
      "dfgh\n",
      "Entrez la clé (entre 1 et 26)\n",
      "3\n",
      "Texte chiffré :\n",
      "None\n"
     ]
    }
   ],
   "source": [
    "def Mode(): #Cette fonction définit le type d'action à effectuer sur le message (crypter ou décrypter)\n",
    "\n",
    "     while True:\n",
    "            \n",
    "        print('Souhaitez-vous chiffrer ou déchiffrer un message ?')\n",
    "        mode = input().lower()\n",
    "        \n",
    "        if mode in 'crypter c decrypter d'.split():       #'crypter c decrypter d'.split() équivaut \n",
    "                                                          # à ['crypter','c','decrypter',d]\n",
    "            return mode      # retournons la variable mode à la fonction Mode()\n",
    "        else:\n",
    "            print('Entrez plutôt \"crypter\" ou \"c\" ou \"décrypter\" ou \"d\".')\n",
    "            \n",
    "mode = Mode()\n",
    "            \n",
    "\n",
    "def Message():     #Saisissons le message de notre client\n",
    "\n",
    "    print('Entrez votre message:')\n",
    "    return input()\n",
    "\n",
    "message = Message()\n",
    "\n",
    "\n",
    "def cle():        #Et saisissons sa clé de cryptage\n",
    "    key = 0\n",
    "\n",
    "    while True:\n",
    "        print('Entrez la clé (entre 1 et 26)')\n",
    "        key = int(input())\n",
    "\n",
    "        if (key >= 1 and key <= 26):\n",
    "            return key\n",
    "\n",
    "key = cle()\n",
    "\n",
    "\n",
    "def MsgTraduis(mode, message, key):\n",
    "    MsgCrypte=\"\"\n",
    "    \n",
    "    if mode[0] == 'd':    # Pour décrypter le message il faut changer de sens la clé\n",
    "        key = -key\n",
    "        MsgCrypte = ''\n",
    "\n",
    "    for symbol in message:\n",
    "        \n",
    "        if symbol.isalpha():\n",
    "            num = ord(symbol)\n",
    "            num += key\n",
    "            \n",
    "            if symbol.isupper():      # Ici cette condition dit que si num > à la dernière lettre l'alphabet alors aucune lettre\n",
    "                if num > ord('Z'):    # ne peut s'y associer... On soustrai donc 26 et on commence à A               \n",
    "                        num -= 26\n",
    "                        \n",
    "                elif num < ord('A'):                     \n",
    "                        num += 26\n",
    "                        \n",
    "            elif symbol.islower():\n",
    "                \n",
    "                if num > ord('z'):\n",
    "                    num -= 26\n",
    "                    \n",
    "                elif num < ord('a'):\n",
    "                    num += 26\n",
    "                    \n",
    "            MsgCrypte += chr(num)\n",
    "        else:\n",
    "            MsgCrypte += symbol     # Dans le cas où le symbole ne serait pas un charactère alors il n'est pas crypté\n",
    "            \n",
    "    return MsgCrypte\n",
    "\n",
    "\n",
    "print('Texte crypté :')\n",
    "print(MsgTraduis(mode, message, key))"
   ]
  },
  {
   "cell_type": "markdown",
   "metadata": {},
   "source": [
    "## Le chiffre indéchiffrable de Vigenère\n",
    "\n",
    "Blaise de Vigenère (1523-1596) était un diplomate et mathématicien francais réputé pour avoir mis au point un système de chiffrement renommé <u>indéchiffrable</u>. En effet, bien qu'aujourd'hui il n'ait plus de secret pour nous, il a quand même donner du fil à retordre jusqu'à 250 ans après sa création aux mathématiciens et cryptanalystes de l'époque (résolu par Charles Babagge en 1854). \n",
    "\n",
    "Mais comment ce fait-ce ? La spécifitée de ce système est le grand nombre de combinaisons possible ($10^{14}$ possibilités pour une clé de 10 lettres !!) autant dire qu'à l'époque trouver la bonne clé pour déchiffrer le code pouvait mettre plusieurs années... Maintenant, tentons de comprendre comment cela fonctionne t-il.\n",
    "\n",
    "Tout d'abord pour utiliser cette méthode de chiffrement il nous faut choisir, de toute évidence, un message et aussi ce que l'on appelle une clé de chiffrement. Comme pour la méthode César, la clé est très importante puisque c'est grace à elle que nous allons chiffrer/déchiffrer notre message (mais attention ! la différence ici est que la clé sera sous forme de lettre et non de chiffre).\n",
    "\n",
    "Comme nous avons vu precédemment les lettres du message à encrypter sont associées à des nombres (de 0 à 25) pour les 26 lettres de l'alphabet. Une des techniques les plus simples à utiliser est de décaler de x rang chaque lettre (ca c'est la méthode de César qui n'a plus de secret pour nous, et de toute manière elle est devenue obsolète). La méthode de Vigenère ne va, quant à elle, pas utiliser une clé composée d'un chiffre mais ici de lettres. En effet, une clé sera un mot (ayant du sens ou non) et plus celui-ci sera long, plus de possibilité il y aura. Le but est de répéter la clé (prenons ici clé = python) et de faire la somme de cette clé avec le message à crypter. Voyons ca plutôt sur un tableau, tout sera plus clair : "
   ]
  },
  {
   "cell_type": "markdown",
   "metadata": {},
   "source": [
    "<img src=\"tableau vige.PNG\" width=\"700\">"
   ]
  },
  {
   "cell_type": "markdown",
   "metadata": {},
   "source": [
    "Cette méthode est donc bien plus efficace que celle de César puisque les combinaisons sont bien plus grande. Exemple : quand bien même le hacker connaissait la longueur de notre clé (ici 6 lettres) il aurait $ 26^6 = 308 915 776$ possibilités de clé .... ce qui est incroyablement long à décoder si nous n'utilisons pas d'ordinateur !! \n",
    "\n",
    "Pour aller plus loin n'hésitez pas à utiliser le code suivant créer par https://github.com/flotpython/recreation/tree/master/vigenere"
   ]
  },
  {
   "cell_type": "code",
   "execution_count": null,
   "metadata": {},
   "outputs": [],
   "source": [
    "import string\n",
    "from itertools import cycle\n",
    "\n",
    "\"\"\"\n",
    "la classe Vigenere permet de coder et décoder à partir d'une clé\n",
    "on fournit deux variantes de l'algorithme, selon la façon\n",
    "dont est traitée la ponctuation\n",
    "\"\"\"\n",
    "\n",
    "\n",
    "# un hash qui associe à un tuple (texte, cle) le caractère correspondant\n",
    "# (texte, cle) -> code\n",
    "encode_vigenere = {\n",
    "    (x, y): chr((ord(y) + ord(x) - 97 * 2) % 26 + 97)\n",
    "    for x in string.ascii_lowercase\n",
    "    for y in string.ascii_lowercase\n",
    "}\n",
    "\n",
    "# pour inverser, c'est à dire pour construire\n",
    "# (code, cle) -> texte\n",
    "# c'est très simple\n",
    "decode_vigenere = {\n",
    "    (z, y): x for (x, y), z\n",
    "    in encode_vigenere.items()\n",
    "}\n",
    "\n",
    "# algo #1 : on fait tourner la clé pour tous les caractères\n",
    "# du message, même la ponctuation\n",
    "\n",
    "\n",
    "def vigenere_continuous(texte, cle, table):\n",
    "    \"\"\"\n",
    "    encode ou decode un texte, avec l'algorithme \n",
    "    dit \"continuous\" c'est-à-dire qu'on fait tourner\n",
    "    la clé même si on rencontre un caractère de ponctuation\n",
    "    l'objet table est une des deux tables de hash ci-dessus\n",
    "    selon qu'on code ou qu'on decode\n",
    "    retourne un iterateur\n",
    "    \"\"\"\n",
    "    # on s'économise la compréhension qui n'est pas utile,\n",
    "    # un générateur fera tout à fait l'affaire\n",
    "    # avec cycle, on n'a pas besoin de gérer\n",
    "    # les longeurs respectives du texte et de la clé\n",
    "    for x, y in zip(texte, cycle(cle)):\n",
    "        # si on ne trouve pas le tuple, c'est qu'on a en entrée\n",
    "        # un espace ou une ponctuation, on le laisse alors tel quel\n",
    "        yield table.get((x, y), x)\n",
    "\n",
    "\n",
    "# algo #2 : on ne fait tourner la clé que quand on encode\n",
    "# un caractère alphabétique\n",
    "def vigenere_skip_punctuation(texte, cle, table):\n",
    "    \"\"\"\n",
    "    encode ou decode, mais cette fois on ne fait tourner\n",
    "    la clé que si on a rencontré un caractère alphabétique\n",
    "    sinon comme vigenere_continuous\n",
    "    \"\"\"\n",
    "    infinite_key = cycle(cle)\n",
    "\n",
    "    def lookup(x):\n",
    "        if x in string.ascii_lowercase:\n",
    "            k = next(infinite_key)\n",
    "            return table.get((x, k))\n",
    "        else:\n",
    "            return x\n",
    "    for x in texte:\n",
    "        yield lookup(x)\n",
    "\n",
    "\n",
    "# deux points d'entrée sous forme de fonctions\n",
    "def encode(texte, cle):\n",
    "    \"\"\"\n",
    "    encode en mode skip_continuous\n",
    "    \"\"\"\n",
    "    return \"\".join(\n",
    "        vigenere_skip_punctuation(texte, cle, encode_vigenere))\n",
    "\n",
    "\n",
    "def decode(texte, cle):\n",
    "    \"\"\"\n",
    "    decode en mode skip_continuous\n",
    "    \"\"\"\n",
    "    return \"\".join(\n",
    "        vigenere_skip_punctuation(texte, cle, decode_vigenere))\n",
    "\n",
    "\n",
    "####################\n",
    "class Vigenere:\n",
    "    \"\"\"\n",
    "    une instance de Vigenere est un codeur-décodeur\n",
    "    \"\"\"\n",
    "\n",
    "    def __init__(self, cle, continuous=False):\n",
    "        self.cle = cle\n",
    "        self.continuous = continuous\n",
    "\n",
    "    def encode(self, message):\n",
    "        \"\"\"\n",
    "        encode et retourne un str\n",
    "        \"\"\"\n",
    "        iterator = vigenere_continuous(message, self.cle, encode_vigenere) \\\n",
    "            if self.continuous \\\n",
    "            else vigenere_skip_punctuation(message, self.cle, encode_vigenere)\n",
    "        return \"\".join(iterator)\n",
    "\n",
    "    def decode(self, message):\n",
    "        \"\"\"\n",
    "        decode et retourne un str\n",
    "        \"\"\"\n",
    "        iterator = vigenere_continuous(message, self.cle, decode_vigenere) \\\n",
    "            if self.continuous \\\n",
    "            else vigenere_skip_punctuation(message, self.cle, decode_vigenere)\n",
    "        return \"\".join(iterator)\n",
    "\n",
    "\n",
    "####################\n",
    "if __name__ == '__main__':\n",
    "\n",
    "    texte_clair = \"voici une proposition de code pour vigenere\"\n",
    "    cle = \"python\"\n",
    "\n",
    "    codec = Vigenere(cle)\n",
    "    texte_encode = codec.encode(texte_clair)\n",
    "    print(f\"encode = {texte_encode}\")\n",
    "    texte_decode = codec.decode(texte_encode)\n",
    "    print(f\"decode = {texte_decode}\")"
   ]
  },
  {
   "cell_type": "markdown",
   "metadata": {},
   "source": [
    "# Avez-vous bien tout suivi ???\n",
    "### Voyons-ça !!!\n"
   ]
  },
  {
   "cell_type": "markdown",
   "metadata": {},
   "source": [
    "Admettons que je suis un espion et que j'intercepte un message chiffré en César qui est le suivant : <b>vdoxw</b>.\n",
    "Etant un bon espion j'ai découvert que la clé était 3 !! Quel est donc le message ?? \n",
    "<br>\n",
    "Le message est : "
   ]
  },
  {
   "cell_type": "code",
   "execution_count": null,
   "metadata": {},
   "outputs": [],
   "source": []
  },
  {
   "cell_type": "markdown",
   "metadata": {},
   "source": [
    "Quel est selon vous le moyen le plus efficace pour chiffrer ? La méthode de César ou de vigenère ?? "
   ]
  },
  {
   "cell_type": "markdown",
   "metadata": {},
   "source": [
    "A présent vous pouvez jouer avec un de vos amis à vous envoyer des messages cryptés. Utilisez le programme de cryptage César utilisé précédemment, mettez vous d'accord sur une clé et le tour est joué ! Mais attention .... gare aux fuites !!"
   ]
  },
  {
   "cell_type": "markdown",
   "metadata": {},
   "source": [
    "## Work in progress ...\n",
    "\n",
    "<br>\n",
    "<img src=\"hommes travaux.jpg\" >\n",
    "<br>\n",
    "\n",
    "   Notre but est d'appliquer ce programme à une vraie application. En effet, faire un programme c'est sympa mais l'utiliser c'est mieux ! Pour ce faire nous allons tenter d'envoyer une commande codée à une brick EV3 en python. L'idée est assez simple. Pour faire par exemple tourner un moteur il nous faut habituellement saisir la commande  \"m.run_forever(speed)\". Le but de cet exercice est de pouvoir traduire depuis notre ordinateur ce message (cela donne \"p.uxq_iruhyhu(vshhg)\" pour une clé de 3 avec un cryptage César). Ensuite nous envoyons cette commande à la brick (par SSH ou par cable) puis un programme traduis d'abord cette commande avec la clé 3 et l'utilise enfin comme une commande normal. Le but de cet exercice est d'utiliser de facon appropriée le terme de cryptage. Si cette expérience marche alors un \"pirate\" qui n'a pas accès au matériel et intercepte le message codé ne pourra pas connaitre la commande envoyée. "
   ]
  },
  {
   "cell_type": "code",
   "execution_count": null,
   "metadata": {},
   "outputs": [
    {
     "name": "stdout",
     "output_type": "stream",
     "text": [
      "Message ?jjgjgj\n"
     ]
    }
   ],
   "source": [
    "message = input(\"Message ?\")\n",
    "key = input(\"Key ?\") #doit être comprise entre 1 et 26 !\n",
    "\n",
    "\n",
    "def MsgTraduis(message, key):\n",
    "    MsgChiffrer=\"\"       \n",
    "    key = -key\n",
    "    for symbol in message:\n",
    "        if symbol.isalpha():\n",
    "            num = ord(symbol)\n",
    "            num += key\n",
    "            if symbol.isupper():       \n",
    "                if num < ord('A'):                     \n",
    "                        num += 26 \n",
    "            elif symbol.islower():            \n",
    "                  if num < ord('a'):\n",
    "                    num += 26                   \n",
    "            MsgChiffrer += chr(num)\n",
    "        else:\n",
    "            MsgChiffrer += symbol     \n",
    "            return MsgChiffrer\n",
    "\n",
    "print('Texte chiffré :')\n",
    "print(MsgTraduis(message, key))"
   ]
  },
  {
   "cell_type": "markdown",
   "metadata": {},
   "source": [
    "Grace à https://sites.google.com/site/ev3python/setting-up-vs-code nous allons en apprendre davantage. Pour pouvoir coder en Python sur la brick nous allons utiliser plusieurs chose. Nous avons déjà à notre disposition une carte mini SD avec un OS Linux intaller decu nous permettant d'utilisé la Brick en Python. Mais ce n'est pas tout ! Nous allons également utiliser le logiciel Visual Studio Code pour écrire nos programmes.\n",
    "Voici le GitHub que j'utilise : https://github.com/ev3dev/vscode-hello-python/blob/master/README.md\n",
    "Pour lire en fichier Python sur VS Code il nous faut installer l'extension \"ev3dev-browser\" (et avoir aussi préalablement installé Python). Après avoir lancé installé l'extension il suffit de suivre la procédure. Enfin, connecter la brick EV3 au PC par wifi, bluetooth, cable ou ethernet.\n",
    "Pour la configuration de VS Code il nous faut ouvrir settings.json pour ouvrir un fichier il faut que le fichier launch.json s'y referre (F5 ??) A priori comme nous avons réussi à faire tourner un code sur la brick cest ok"
   ]
  },
  {
   "cell_type": "markdown",
   "metadata": {},
   "source": [
    "Voici le programme de César repris pour qu'il serve seulement à décrypter."
   ]
  },
  {
   "cell_type": "code",
   "execution_count": 15,
   "metadata": {},
   "outputs": [
    {
     "name": "stdout",
     "output_type": "stream",
     "text": [
      "Arriver du message\n",
      "aaa\n",
      "Texte chiffré :\n",
      "xxx\n"
     ]
    }
   ],
   "source": [
    "def Message():    \n",
    "\n",
    "    print('Arriver du message')\n",
    "    return input()\n",
    "\n",
    "message = Message()\n",
    "\n",
    "key = 3\n",
    "\n",
    "\n",
    "def MsgTraduis(message, key):\n",
    "    MsgChiffre=\"\" \n",
    "    for symbol in message:        \n",
    "        if symbol.isalpha():\n",
    "            num = ord(symbol)\n",
    "            num -= key            \n",
    "            if symbol.isupper():      \n",
    "                if num < ord('A'):                     \n",
    "                    num += 26\n",
    "                        \n",
    "            elif symbol.islower():                   \n",
    "                if num < ord('a'):\n",
    "                    num += 26\n",
    "                    \n",
    "            MsgChiffre += chr(num)\n",
    "        else:\n",
    "            MsgChiffre += symbol     \n",
    "            \n",
    "    return MsgChiffre\n",
    "\n",
    "\n",
    "print('Texte chiffré :')\n",
    "print(MsgTraduis(message, key))"
   ]
  },
  {
   "cell_type": "markdown",
   "metadata": {},
   "source": [
    "L'idée est ensuite de faire fonctionner ce programme avant la procédure EV3 :"
   ]
  },
  {
   "cell_type": "code",
   "execution_count": 18,
   "metadata": {},
   "outputs": [
    {
     "name": "stdout",
     "output_type": "stream",
     "text": [
      "Arriver du message\n",
      "aaaa\n",
      "Texte chiffré :\n",
      "xxxx\n"
     ]
    },
    {
     "ename": "ModuleNotFoundError",
     "evalue": "No module named 'ev3dev'",
     "output_type": "error",
     "traceback": [
      "\u001b[0;31m---------------------------------------------------------------------------\u001b[0m",
      "\u001b[0;31mModuleNotFoundError\u001b[0m                       Traceback (most recent call last)",
      "\u001b[0;32m<ipython-input-18-ef0d24aca3f0>\u001b[0m in \u001b[0;36m<module>\u001b[0;34m\u001b[0m\n\u001b[1;32m     28\u001b[0m \u001b[0;34m\u001b[0m\u001b[0m\n\u001b[1;32m     29\u001b[0m \u001b[0;31m#!/usr/bin/env python3\u001b[0m\u001b[0;34m\u001b[0m\u001b[0;34m\u001b[0m\u001b[0m\n\u001b[0;32m---> 30\u001b[0;31m \u001b[0;32mfrom\u001b[0m \u001b[0mev3dev\u001b[0m\u001b[0;34m.\u001b[0m\u001b[0mev3\u001b[0m \u001b[0;32mimport\u001b[0m \u001b[0;34m*\u001b[0m\u001b[0;34m\u001b[0m\u001b[0m\n\u001b[0m\u001b[1;32m     31\u001b[0m \u001b[0;32mimport\u001b[0m \u001b[0mos\u001b[0m\u001b[0;34m\u001b[0m\u001b[0m\n\u001b[1;32m     32\u001b[0m \u001b[0mos\u001b[0m\u001b[0;34m.\u001b[0m\u001b[0msystem\u001b[0m\u001b[0;34m(\u001b[0m\u001b[0;34m'setfont Lat15-TerminusBold14'\u001b[0m\u001b[0;34m)\u001b[0m\u001b[0;34m\u001b[0m\u001b[0m\n",
      "\u001b[0;31mModuleNotFoundError\u001b[0m: No module named 'ev3dev'"
     ]
    }
   ],
   "source": [
    "key = 3\n",
    "def Message():    \n",
    "\n",
    "    print('Arriver du message')\n",
    "    return input()\n",
    "message = Message()\n",
    "\n",
    "def MsgTraduis(message, key):\n",
    "    MsgChiffre=\"\" \n",
    "    for symbol in message:        \n",
    "        if symbol.isalpha():\n",
    "            num = ord(symbol)\n",
    "            num -= key            \n",
    "            if symbol.isupper():      \n",
    "                if num < ord('A'):                     \n",
    "                    num += 26                        \n",
    "            elif symbol.islower():                   \n",
    "                if num < ord('a'):\n",
    "                    num += 26                    \n",
    "            MsgChiffre += chr(num)\n",
    "        else:\n",
    "            MsgChiffre += symbol                 \n",
    "    return MsgChiffre\n",
    "\n",
    "print('Texte chiffré :')\n",
    "print(MsgTraduis(message, key))\n",
    "Action = MsgTraduis(message, key)\n",
    "\n",
    "#!/usr/bin/env python3\n",
    "from ev3dev.ev3 import *\n",
    "import os\n",
    "os.system('setfont Lat15-TerminusBold14')\n",
    "mot = LargeMotor('outB'); mL.stop_action = 'hold'\n",
    "print('Hello, my name is EV3!')\n",
    "Sound.speak('Hello, my name is EV3!').wait()\n",
    "mot.run_to_rel_pos(position_sp= 840, speed_sp = 250)\n",
    "mot.wait_while('running')\n",
    "Action"
   ]
  },
  {
   "cell_type": "markdown",
   "metadata": {},
   "source": [
    "Tout ceci n'est plus qu'à tester sur le matériel !"
   ]
  },
  {
   "cell_type": "code",
   "execution_count": null,
   "metadata": {},
   "outputs": [],
   "source": []
  }
 ],
 "metadata": {
  "kernelspec": {
   "display_name": "Python 3",
   "language": "python",
   "name": "python3"
  },
  "language_info": {
   "codemirror_mode": {
    "name": "ipython",
    "version": 3
   },
   "file_extension": ".py",
   "mimetype": "text/x-python",
   "name": "python",
   "nbconvert_exporter": "python",
   "pygments_lexer": "ipython3",
   "version": "3.6.5"
  }
 },
 "nbformat": 4,
 "nbformat_minor": 2
}
