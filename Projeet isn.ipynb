{
 "cells": [
  {
   "cell_type": "markdown",
   "metadata": {},
   "source": [
    "# Comment faire de la cryptographie... "
   ]
  },
  {
   "cell_type": "markdown",
   "metadata": {},
   "source": [
    "## Les connaissances :\n",
    "\n",
    "Tout d'abord il faut s'avoir qu'on attribu à chaque lettre un nombre comme dans le tableau ci-dessous **:**\n",
    "\n",
    "<img src=\"ChiffreLettre.png\">\n",
    "\n",
    "Ainsi, on attribue 0 pour A, 1 pour B etc."
   ]
  },
  {
   "cell_type": "markdown",
   "metadata": {},
   "source": [
    "## Première application : \n",
    "Ici, nous avons $\\begin{equation}\\frac{15x + 7}{26}\\end{equation}$ qui nous aidera à trouver y**.**\n",
    "* x correspond à la **valeur numérique** de la lettre non cryptée**.**\n",
    "* y est le reste **ENTIER** de la division euclidienne de 15x + 7 par **26.**\n",
    "\n",
    "<img src=\"Crypterrr.png\">\n",
    "\n",
    "Donc CRYPTAGE se code : LMDYGHTP\n"
   ]
  },
  {
   "cell_type": "markdown",
   "metadata": {},
   "source": [
    "## Deuxième application :\n",
    "\n",
    "Maintenant que nous savons coder un mot, il nous savoir comment **retrouver** un mot à partir de son **code** ! \n",
    "\n",
    "Tout d'abord voyons les différentes manière d'écrire que y est le reste de la division de 15x + 7 par 26 **:**\n",
    "* $\\begin{equation}{15x + 7} \\equiv {y [26]}\\end{equation}$\n",
    "\n",
    "* 15x + 7 = y + 26k, avec ${k\\in\\mathbb{Z}}$ \n",
    "\n",
    "### On cherche x en fonction de y :\n",
    "On utilisera la seconde expression donné juste avant, 15x + 7 = y + 26k**.**\n",
    "\n",
    "Nous allons résoudre cette équation ! (Attention, nous devons rester dans l'ensemble des **entiers relatifs** !)\n",
    "\n",
    "Ainsi nous pouvons dire **:**\n",
    "\n",
    "$\\begin{equation}\\Leftrightarrow{15x = y - 7 + 26k}\\end{equation}$ (On ne divise pas par 15 car nous devons qu'avoir des entiers) \n",
    "\n",
    "Il faut donc multiplier les deux membres par un nombre N qui permettra d'isoler x tel que **:**\n",
    "\n",
    "* N * 15x = N * (y - 7 +26k)\n",
    "\n",
    "Pour cela nous utiliserons **l'Agorithme d'Euclide** (un genre de PGCD, rappel de cours du collège)**.**\n",
    "\n",
    "Cherchons combien de fois il y  a 15 dans 26 (et ainsi de suite...) **:**\n",
    "* 26 = 15 * 1 + **11**\n",
    "* 15 = 11 * 1 + **4**\n",
    "* 11 = 4 * 2 + **3**\n",
    "* 4 = 3 * 1 + **1**\n",
    "\n",
    "Nous pouvons nous arrêter là et nous allons isoler les restes succesif (les nombres précédent qui sont en gras) **:**\n",
    "\n",
    "* 11 = 26 - 15 * 1\n",
    "* 4 = 15 - 11 * 1\n",
    "* 3 = 11 - 4 * 2\n",
    "* **1** = 4 - 3 * 1\n",
    "\n",
    "Maintenant nous allons \"remonter l'échelle\" en partant de **1** en essayant de l'exprimer avec **15** et **26** \n",
    "\n",
    "* 1 = 4 - 3 \n",
    "* 1 = 4 - 11 + 4 * 2\n",
    "* 1  = 4 * 3 - 11    \n",
    "* 1 = (15 - 11) * 3 - 11\n",
    "* 1 = 15 * 3 - 11 * 3 - 11\n",
    "* 1 = 15 * 3 - 11 * 4\n",
    "* 1 = 15 * 3 -(26 - 15)* 4 \n",
    "* 1 = 15 * 3 - 26 * 4 + 15 * 4\n",
    "* 1 = **15** * 7 - **26** * 4 \n",
    "\n",
    "**Donc :**\n",
    "\n",
    "* 15 * 7 = 1 + 26 * 4\n",
    "\n",
    "Autrement dit, nous pouvons dire que 15 * 7 est congru à 1 modulo 26. Et que notre nombre N est 7.\n",
    "\n",
    "Ainsi nous allons multiplier 15x = y - 7 + 26k par 7 des deux côtés de l'égalité.\n",
    "\n",
    "**Ce qui donne :**\n",
    "\n",
    "* 7 * 15x = 7y - 49 + 7 * 26k \n",
    "\n",
    "### On repasse en écriture avec des congruences : \n",
    "\n",
    "* $\\begin{equation}{7 * 15x} \\equiv {7y - 49[26]}\\end{equation}$\n",
    "\n",
    "**Ce qui revient à dire :** \n",
    "\n",
    "* $\\begin{equation}\\Leftrightarrow{1x} \\equiv {7y - 49[26]}\\end{equation}$\n",
    "\n",
    "## Or : \n",
    "\n",
    "Le membre **- 49[26]** ne va pas nous intéressé car nous cherchons un nombre compris entre [0 ; 25] (Cf connaissances). \n",
    "\n",
    "Multiplions **-49** par **26** n fois pour avoir un nombre compris entre [0 ; 25]. Nous obtenons **3** (26 * 2 - 49).\n",
    "\n",
    "**Donc :**\n",
    "\n",
    "* $\\begin{equation}{1x} \\equiv {7y + 3[26]}\\end{equation}$\n",
    "\n",
    "### Bravo d'être arrivé jusqu'ici ! Le plus dur a été fait ! Passons à un petit exercice de décodage ! \n",
    "\n",
    "Maintenant que nous avons notre fonction de décodage qui est **x = 7y +3[26]** Nous allons pouvoir décoder un code **:**\n"
   ]
  },
  {
   "cell_type": "markdown",
   "metadata": {},
   "source": [
    "<h1>La méthode de César</h1>\n",
    "\n",
    "   Une autre technique de cryptage facile à faire et à comprendre est celle de César. Dans la Rome Antique, le célèbre empereur Jules César avait imaginé une méthode simple et efficace pour envoyer des messages à ses généraux sans que personne ne puisse ne puisse les lires mêmes s'ils s'étaient interceptés. \n",
    "\n",
    "L'idée est simple : comme évoqué précedemment nous associons un nombre à chaque lettre en fonction de sa place dans l'alphabet   <i><u>exemple</u> : a = 0 ; b = 1; z = 25 etc...</i>. Ensuite, pour crypter le message (<i> <u>ex</u> : message = abc alors message = 012 </i>) il nous suffit d'ajouter pour chaque terme un nombre qui appelé clé (pour notre exemple si clé = 3 alors message_crypté = 345 ce qui donne en lettre  message_crypté = def ). \n",
    "\n",
    "\n",
    "\n",
    "<img src=\"Caesar.png\">\n",
    "\n",
    "\n",
    "Et ensuite pour décrypter il suffisait simplement de redéplacer chaque lettre de 3 vers la gauche et le tour était jouer ! A l'époque cette méthode était efficace puisque seul César et ses généraux savait qu'il fallait déplacer de trois symboles les lettres. Ce nombre est appelé une clé de cryptage (ici notre clé est donc 3) et elle doit à tous prix rester secrète ! Malheuresement aujourd'hui cette technique est obsolète puisqu'avec les ordinateurs modernes une énorme quantité de clé peut être rapidement essayé.\n",
    "\n",
    "Voici comment cela fonctionne en python :"
   ]
  },
  {
   "cell_type": "code",
   "execution_count": 1,
   "metadata": {},
   "outputs": [
    {
     "name": "stdout",
     "output_type": "stream",
     "text": [
      "Souhaitez-vous crypter ou décrypter un message ?\n",
      "c\n",
      "Entrez votre message:\n",
      "salut \n",
      "Entrez la clé (entre 1 et 26)\n",
      "3\n",
      "Texte crypté :\n",
      "vdoxw \n"
     ]
    }
   ],
   "source": [
    "def Mode(): #Cette fonction définit le type d'action à effectuer sur le message (crypter ou décrypter)\n",
    "\n",
    "     while True:\n",
    "            \n",
    "        print('Souhaitez-vous crypter ou décrypter un message ?')\n",
    "        mode = input().lower()\n",
    "        \n",
    "        if mode in 'crypter c decrypter d'.split():       #'crypter c decrypter d'.split() équivaut \n",
    "                                                          # à ['crypter','c','decrypter',d]\n",
    "            return mode      # retournons la variable mode à la fonction Mode()\n",
    "        else:\n",
    "            print('Entrez plutôt \"crypter\" ou \"c\" ou \"décrypter\" ou \"d\".')\n",
    "            \n",
    "mode = Mode()\n",
    "            \n",
    "\n",
    "def Message():     #Saisissons le message de notre client\n",
    "\n",
    "    print('Entrez votre message:')\n",
    "    return input()\n",
    "\n",
    "message = Message()\n",
    "\n",
    "\n",
    "def cle():        #Et saisissons sa clé de cryptage\n",
    "    key = 0\n",
    "\n",
    "    while True:\n",
    "        print('Entrez la clé (entre 1 et 26)')\n",
    "        key = int(input())\n",
    "\n",
    "        if (key >= 1 and key <= 26):\n",
    "            return key\n",
    "\n",
    "key = cle()\n",
    "\n",
    "\n",
    "def MsgTraduis(mode, message, key):\n",
    "    MsgCrypte=\"\"\n",
    "    \n",
    "    if mode[0] == 'd':    # Pour décrypter le message il faut changer de sens la clé\n",
    "        key = -key\n",
    "        MsgCrypte = ''\n",
    "\n",
    "    for symbol in message:\n",
    "        \n",
    "        if symbol.isalpha():\n",
    "            num = ord(symbol)\n",
    "            num += key\n",
    "            \n",
    "            if symbol.isupper():      # Ici cette condition dit que si num > à la dernière lettre l'alphabet alors aucune lettre\n",
    "                if num > ord('Z'):    # ne peut s'y associer... On soustrai donc 26 et on commence à A               \n",
    "                        num -= 26\n",
    "                        \n",
    "                elif num < ord('A'):                     \n",
    "                        num += 26\n",
    "                        \n",
    "            elif symbol.islower():\n",
    "                \n",
    "                if num > ord('z'):\n",
    "                    num -= 26\n",
    "                    \n",
    "                elif num < ord('a'):\n",
    "                    num += 26\n",
    "                    \n",
    "            MsgCrypte += chr(num)\n",
    "        else:\n",
    "            MsgCrypte += symbol     # Dans le cas où le symbole ne serait pas un charactère alors il n'est pas crypté\n",
    "            \n",
    "    return MsgCrypte\n",
    "\n",
    "\n",
    "print('Texte crypté :')\n",
    "print(MsgTraduis(mode, message, key))"
   ]
  },
  {
   "cell_type": "markdown",
   "metadata": {},
   "source": [
    "### Décortiquons un peu ce code :\n",
    "\n",
    "Commençons par le commencement :"
   ]
  },
  {
   "cell_type": "code",
   "execution_count": null,
   "metadata": {},
   "outputs": [],
   "source": [
    "def Mode(): #Cette fonction définit le type d'action à effectuer sur le message (crypter ou décrypter)\n",
    "\n",
    "     while True:\n",
    "            \n",
    "        print('Souhaitez-vous crypter ou décrypter un message ?')\n",
    "        mode = input().lower()\n",
    "        \n",
    "        if mode in 'crypter c décrypter d'.split():       #'crypter c decrypter d'.split() équivaut \n",
    "                                                          # à ['crypter','c','decrypter',d]\n",
    "            return mode      # retournons la variable mode à la fonction Mode()\n",
    "        else:\n",
    "            print('Entrez plutôt \"crypter\" ou \"c\" ou \"décrypter\" ou \"d\".')\n",
    "            \n",
    "mode = Mode()"
   ]
  },
  {
   "cell_type": "markdown",
   "metadata": {},
   "source": [
    "Tout d'abord, cette première fonction Mode() sert à savoir si nous souhaitons crypter ou décrypter un message. Pour ce faire nous devons juste taper crypter/c ou décrypter/d, en majuscule ou minuscule ici peu importe. Grace a la fonction split() nous abrégeons le code et nous coupons en quatre la variable mode. Si notre saisie est bien dans la variable mode alors mode = Mode sinon 'Entrez plutôt \"crypter\" ou \"c\" ou \"décrypter\" ou \"d\".' apparait.\n",
    "Ensuite :"
   ]
  },
  {
   "cell_type": "code",
   "execution_count": null,
   "metadata": {},
   "outputs": [],
   "source": [
    "def Message():     #Saisissons le message de notre client\n",
    "\n",
    "    print('Entrez votre message:')\n",
    "    return input()\n",
    "\n",
    "message = Message()"
   ]
  },
  {
   "cell_type": "markdown",
   "metadata": {},
   "source": [
    "Cette fonction Message() saisit simplement le message à crypter ou à décrypter et le stock dans la variable message. Puis :"
   ]
  },
  {
   "cell_type": "code",
   "execution_count": null,
   "metadata": {},
   "outputs": [],
   "source": [
    "def cle():        #Et saisissons sa clé de cryptage\n",
    "    key = 0\n",
    "\n",
    "    while True:\n",
    "        print('Entrez la clé (entre 1 et 26)')\n",
    "        key = int(input())\n",
    "\n",
    "        if (key >= 1 and key <= 26):\n",
    "            return key\n",
    "\n",
    "key = cle()"
   ]
  },
  {
   "cell_type": "markdown",
   "metadata": {},
   "source": [
    "De manière évidente cette fonction saisit la clé de cryptage qui doit être comprise entre 1 et 26. Enfin :"
   ]
  },
  {
   "cell_type": "code",
   "execution_count": null,
   "metadata": {},
   "outputs": [],
   "source": [
    "def MsgTraduis(mode, message, key):\n",
    "    MsgCrypte=\"\"\n",
    "    \n",
    "    if mode[0] == 'd':    # 1./\n",
    "        key = -key\n",
    "\n",
    "    for symbol in message:     #  2./\n",
    "        \n",
    "        if symbol.isalpha():    #   3./\n",
    "            num = ord(symbol)\n",
    "            num += key\n",
    "            \n",
    "            if symbol.isupper():     #   4./ *\n",
    "                if num > ord('Z'): \n",
    "                    \n",
    "                        num -= 26\n",
    "                elif num < ord('A'):                 \n",
    "                        num += 26\n",
    "                        \n",
    "            elif symbol.islower():       #  **    \n",
    "                \n",
    "                if num > ord('z'):\n",
    "                    num -= 26\n",
    "                    \n",
    "                elif num < ord('a'):\n",
    "                    num += 26\n",
    "                    \n",
    "            MsgCrypte += chr(num)    # 5./\n",
    "        else:\n",
    "            MsgCrypte += symbol    #  6./\n",
    "            \n",
    "    return MsgCrypte\n",
    "\n",
    "print('Texte crypté :')\n",
    "print(MsgTraduis(mode, message, key)/"
   ]
  },
  {
   "cell_type": "markdown",
   "metadata": {},
   "source": [
    "Voici donc la plus longue fonction : MsgTraduis(mode, message, key) qui va donc crypter ou décrypter le message. \n",
    "\n",
    "<ol><b>1./</b>  Tout d'abord il nous faut savoir si le message est à décrypter ou à crypter. Si la première lettre de la variable mode est le \"d\" alos nous devons décrypter et à l'inverse si mode[0]=c alors nous devons crypter. Si le message est à décrypter alors nous ne devons pas ajouter la clé à chaque nombre mais le soustraire.</ol> \n",
    "\n",
    "<ul><b>2./</b>  Dans cette boucle \"symbol\" est un mot spécifique puisqu'il est connu de python. Autrement dit \"for symbol in message\" cela veut dire en français : pour chaque (ou lettre dans notre cas) dans la variable message (notre message à convertir) alors faire : blabla. Voila simplement ce que veut dire cette condition !!</ul>\n",
    "\n",
    "<ul><b>3./</b>  Si le symbole est bien une lettre (d'où le .isalpha) alors la foncion ord() permet de transformer un charactère en son nombre décimal suivant la table ASCII. Dans l'exemple que nous avions donné précédemment ord(a)=97 et non 0. De plus ord(z)=122 et ord(A)=65. L'alphabet ASCII ne fait pas suivre les majuscules et minuscules, c'est toujours bon de le savoir ! Ensuite, l nous suffit d'ajouter le nombre de notre clé de cryptage au nombre associé à la lettre de notre mot et tous ça est stockée dans la variable num</ul> \n",
    "\n",
    "<ul><b>4./</b>Quatrièmement les26 conditions suivantes veulent toutes deux dire sensiblement la même chose. Si par exemple mon ma letre est \"z\" et ma clé de cryptage est \"2\" alors le symbole associé en ASCII serrait le \"!\". Or nous voulons seulement des lettres donc nous retournons au début de l'alphabet d'où le num -= 26). Même problème si notre clé est 2 et notre lettre est a... même chose \"num += 26\". La première condition <b>*</b> transforme les lettres majuscule tandis que <b>**</b> crypte/décrypte les lettres minuscules</ul>\n",
    "\n",
    "<ul><b>5./</b> La fonction chr() est la fonction inverse de la fonction ord() puisque chr(ord('a')) = 'a'. Les symboles cryptés sont tous ajoutés à la suite dans la variable \"MsgCrypte\". </ul>\n",
    "\n",
    "<ul><b>6./</b> Si le symbole n'est pas une lettre alors il n'est pas crypté et reste comme il est</ul>\n",
    "\n",
    "<ul><b>Enfin ...</b> la procédure finale est classique. Voila donc comment créer un programme de cryptage ou de décryptage !!!<ul>"
   ]
  },
  {
   "cell_type": "markdown",
   "metadata": {},
   "source": [
    " merci à https://inventwithpython.com/chapter14.html pour son aide !"
   ]
  },
  {
   "cell_type": "markdown",
   "metadata": {},
   "source": [
    "## Le chiffre indéchiffrable de Vigenère\n",
    "\n",
    "Blaise de Vigenère (1523-1596) était un diplomate et mathématicien francais réputé pour avoir mis au point un système de chiffre dit <u>indéchiffrable</u>. En effet, bien qu'aujourd'hui il n'ai plus de secret pour nous, il a quand même donner du fil à retordre jusqu'à 250 ans après sa création (résolu par Charles Babagge en 1854). \n",
    "\n",
    "Mais comment ce fait-ce ? La spécifité de ce cryptage est d'une part dû à sa facilité d'éciture et au grand nombre de combinaisons possible ($10^{14}$ possibilité pour une clé de 10 lettres !!) autant dire qu'à l'époque trouver la bonne clé pour décrypter le code pouvait mettre plusieurs années... Maintenant rentrons un peu plus dans le vive du sujet et tentons de comprendre comment cela fonctionne t-il.\n",
    "\n",
    "Tout d'abord pour utiliser cette énigme il nous faut choisir, de toute évidence, un message à crypter et une clé de cryptage (cette fois ci en lettre par exemple : mobkfshfb ou encore hceggfggg)\n",
    "\n",
    "Comme nous avons vu precédemment les lettres du message à encrypter sont associées à des nombres (de 0 à 25) pour les 26 lettres de l'alphabet. Une des techniques les plus simples à utiliser est de décaler de x rang chaque lettre (ca c'est la méthode de César qui n'a plus de secret pour nous, et de toute manière elle est désormais devenue obsolète). La méthode de Vigenère ne va, quant à elle, pas utiliser une clé composée d'un chiffre mais ici de lettres. En effet, une clé sera un mot (ayant du sens ou non) et plus celui-ci sera long, plus de possibilité il y aura. Le but est de répéter la clé (prenons ici clé = python) et de faire la somme de cette clé avec le message à crypter. Voyons ca plutôt sur un tableau, tout sera plus clair : "
   ]
  },
  {
   "cell_type": "markdown",
   "metadata": {},
   "source": [
    "<img src=\"tableau vige.PNG\" width=\"700\">"
   ]
  },
  {
   "cell_type": "markdown",
   "metadata": {},
   "source": [
    "Cette méthode est donc bien plus efficace que celle de César puisque les combinaisons sont bien plus grande. Exemple : quand bien même le hacker connaissait la longueur de notre clé (ici 6 lettres) il aurait $ 26^6 = 308 915 776$ possibilités de clé .... ce qui est incroyablement long à décoder si nous n'utilisons pas d'ordinateur !! "
   ]
  },
  {
   "cell_type": "markdown",
   "metadata": {},
   "source": [
    "Pour aller plus loin et dédicace à : http://naelshiab.com/python-et-la-cryptographie-et-un-peu-de-piratage-aussi/ "
   ]
  },
  {
   "cell_type": "markdown",
   "metadata": {},
   "source": [
    "# Avez-vous bien tout suivi ???\n",
    "### Voyons-ça !!!\n",
    "\n"
   ]
  },
  {
   "cell_type": "markdown",
   "metadata": {},
   "source": [
    "Admettons que je suis un espion et que j'intercepte un message crypté en César qui est le suivant : vdoxw\n",
    "Comme je suis un bon espion j'ai découvert que la clé était 3 !! Quel est donc le message ??"
   ]
  },
  {
   "cell_type": "markdown",
   "metadata": {},
   "source": [
    "A présent vous pouvez jouer avec un de vos amis à vous envoyer des messages cryptés. Utilisez le programme de cryptage César utilisé précédemment, mettez vous d'accord sur une clé et le tour est joué ! Mais attention .... gare aux fuites !!"
   ]
  },
  {
   "cell_type": "code",
   "execution_count": null,
   "metadata": {},
   "outputs": [],
   "source": []
  }
 ],
 "metadata": {
  "kernelspec": {
   "display_name": "Python 3",
   "language": "python",
   "name": "python3"
  },
  "language_info": {
   "codemirror_mode": {
    "name": "ipython",
    "version": 3
   },
   "file_extension": ".py",
   "mimetype": "text/x-python",
   "name": "python",
   "nbconvert_exporter": "python",
   "pygments_lexer": "ipython3",
   "version": "3.6.5"
  }
 },
 "nbformat": 4,
 "nbformat_minor": 2
}
